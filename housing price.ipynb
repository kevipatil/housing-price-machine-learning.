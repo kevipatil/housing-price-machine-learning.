{
 "cells": [
  {
   "cell_type": "code",
   "execution_count": 2,
   "id": "3f755131",
   "metadata": {},
   "outputs": [],
   "source": [
    "# Import necessary libraries\n",
    "import pandas as pd\n",
    "from sklearn.model_selection import train_test_split\n",
    "from sklearn.linear_model import LinearRegression\n",
    "from sklearn.metrics import mean_squared_error\n",
    "from sklearn.preprocessing import LabelEncoder"
   ]
  },
  {
   "cell_type": "code",
   "execution_count": 8,
   "id": "2fdccd10",
   "metadata": {},
   "outputs": [
    {
     "data": {
      "text/html": [
       "<div>\n",
       "<style scoped>\n",
       "    .dataframe tbody tr th:only-of-type {\n",
       "        vertical-align: middle;\n",
       "    }\n",
       "\n",
       "    .dataframe tbody tr th {\n",
       "        vertical-align: top;\n",
       "    }\n",
       "\n",
       "    .dataframe thead th {\n",
       "        text-align: right;\n",
       "    }\n",
       "</style>\n",
       "<table border=\"1\" class=\"dataframe\">\n",
       "  <thead>\n",
       "    <tr style=\"text-align: right;\">\n",
       "      <th></th>\n",
       "      <th>SquareFeet</th>\n",
       "      <th>Bedrooms</th>\n",
       "      <th>Bathrooms</th>\n",
       "      <th>Neighborhood</th>\n",
       "      <th>YearBuilt</th>\n",
       "      <th>Price</th>\n",
       "    </tr>\n",
       "  </thead>\n",
       "  <tbody>\n",
       "    <tr>\n",
       "      <th>0</th>\n",
       "      <td>2126</td>\n",
       "      <td>4</td>\n",
       "      <td>1</td>\n",
       "      <td>Rural</td>\n",
       "      <td>1969</td>\n",
       "      <td>215355.283618</td>\n",
       "    </tr>\n",
       "    <tr>\n",
       "      <th>1</th>\n",
       "      <td>2459</td>\n",
       "      <td>3</td>\n",
       "      <td>2</td>\n",
       "      <td>Rural</td>\n",
       "      <td>1980</td>\n",
       "      <td>195014.221626</td>\n",
       "    </tr>\n",
       "    <tr>\n",
       "      <th>2</th>\n",
       "      <td>1860</td>\n",
       "      <td>2</td>\n",
       "      <td>1</td>\n",
       "      <td>Suburb</td>\n",
       "      <td>1970</td>\n",
       "      <td>306891.012076</td>\n",
       "    </tr>\n",
       "    <tr>\n",
       "      <th>3</th>\n",
       "      <td>2294</td>\n",
       "      <td>2</td>\n",
       "      <td>1</td>\n",
       "      <td>Urban</td>\n",
       "      <td>1996</td>\n",
       "      <td>206786.787153</td>\n",
       "    </tr>\n",
       "    <tr>\n",
       "      <th>4</th>\n",
       "      <td>2130</td>\n",
       "      <td>5</td>\n",
       "      <td>2</td>\n",
       "      <td>Suburb</td>\n",
       "      <td>2001</td>\n",
       "      <td>272436.239065</td>\n",
       "    </tr>\n",
       "    <tr>\n",
       "      <th>...</th>\n",
       "      <td>...</td>\n",
       "      <td>...</td>\n",
       "      <td>...</td>\n",
       "      <td>...</td>\n",
       "      <td>...</td>\n",
       "      <td>...</td>\n",
       "    </tr>\n",
       "    <tr>\n",
       "      <th>49995</th>\n",
       "      <td>1282</td>\n",
       "      <td>5</td>\n",
       "      <td>3</td>\n",
       "      <td>Rural</td>\n",
       "      <td>1975</td>\n",
       "      <td>100080.865895</td>\n",
       "    </tr>\n",
       "    <tr>\n",
       "      <th>49996</th>\n",
       "      <td>2854</td>\n",
       "      <td>2</td>\n",
       "      <td>2</td>\n",
       "      <td>Suburb</td>\n",
       "      <td>1988</td>\n",
       "      <td>374507.656727</td>\n",
       "    </tr>\n",
       "    <tr>\n",
       "      <th>49997</th>\n",
       "      <td>2979</td>\n",
       "      <td>5</td>\n",
       "      <td>3</td>\n",
       "      <td>Suburb</td>\n",
       "      <td>1962</td>\n",
       "      <td>384110.555590</td>\n",
       "    </tr>\n",
       "    <tr>\n",
       "      <th>49998</th>\n",
       "      <td>2596</td>\n",
       "      <td>5</td>\n",
       "      <td>2</td>\n",
       "      <td>Rural</td>\n",
       "      <td>1984</td>\n",
       "      <td>380512.685957</td>\n",
       "    </tr>\n",
       "    <tr>\n",
       "      <th>49999</th>\n",
       "      <td>1572</td>\n",
       "      <td>5</td>\n",
       "      <td>3</td>\n",
       "      <td>Rural</td>\n",
       "      <td>2011</td>\n",
       "      <td>221618.583218</td>\n",
       "    </tr>\n",
       "  </tbody>\n",
       "</table>\n",
       "<p>50000 rows × 6 columns</p>\n",
       "</div>"
      ],
      "text/plain": [
       "       SquareFeet  Bedrooms  Bathrooms Neighborhood  YearBuilt          Price\n",
       "0            2126         4          1        Rural       1969  215355.283618\n",
       "1            2459         3          2        Rural       1980  195014.221626\n",
       "2            1860         2          1       Suburb       1970  306891.012076\n",
       "3            2294         2          1        Urban       1996  206786.787153\n",
       "4            2130         5          2       Suburb       2001  272436.239065\n",
       "...           ...       ...        ...          ...        ...            ...\n",
       "49995        1282         5          3        Rural       1975  100080.865895\n",
       "49996        2854         2          2       Suburb       1988  374507.656727\n",
       "49997        2979         5          3       Suburb       1962  384110.555590\n",
       "49998        2596         5          2        Rural       1984  380512.685957\n",
       "49999        1572         5          3        Rural       2011  221618.583218\n",
       "\n",
       "[50000 rows x 6 columns]"
      ]
     },
     "execution_count": 8,
     "metadata": {},
     "output_type": "execute_result"
    }
   ],
   "source": [
    "# Load the dataset\n",
    "house = pd.read_csv('dataset.csv')\n",
    "house"
   ]
  },
  {
   "cell_type": "code",
   "execution_count": 3,
   "id": "dd0ded68",
   "metadata": {},
   "outputs": [],
   "source": [
    "# Preprocessing\n",
    "# Convert categorical data to numerical using Label Encoding\n",
    "le = LabelEncoder()\n",
    "house['Neighborhood'] = le.fit_transform(house['Neighborhood'])"
   ]
  },
  {
   "cell_type": "code",
   "execution_count": 9,
   "id": "1400601f",
   "metadata": {},
   "outputs": [],
   "source": [
    "# Define features (X) and target variable (y)\n",
    "X = house[['SquareFeet', 'Bedrooms', 'Bathrooms', 'Neighborhood', 'YearBuilt']]\n",
    "y = house['Price']"
   ]
  },
  {
   "cell_type": "code",
   "execution_count": 10,
   "id": "c2cf74fd",
   "metadata": {},
   "outputs": [],
   "source": [
    "# Split the data into training and testing sets\n",
    "X_train, X_test, y_train, y_test = train_test_split(X, y, test_size=0.2, random_state=42)"
   ]
  },
  {
   "cell_type": "code",
   "execution_count": 11,
   "id": "04b112e5",
   "metadata": {},
   "outputs": [],
   "source": [
    "# Create a linear regression model\n",
    "model = LinearRegression()"
   ]
  },
  {
   "cell_type": "code",
   "execution_count": 12,
   "id": "fe9212ba",
   "metadata": {},
   "outputs": [
    {
     "data": {
      "text/plain": [
       "LinearRegression()"
      ]
     },
     "execution_count": 12,
     "metadata": {},
     "output_type": "execute_result"
    }
   ],
   "source": [
    "# Train the model\n",
    "model.fit(X_train, y_train)"
   ]
  },
  {
   "cell_type": "code",
   "execution_count": 13,
   "id": "b3e47a9a",
   "metadata": {},
   "outputs": [],
   "source": [
    "# Make predictions on the test set\n",
    "predictions = model.predict(X_test)"
   ]
  },
  {
   "cell_type": "code",
   "execution_count": 14,
   "id": "71f697f7",
   "metadata": {},
   "outputs": [
    {
     "name": "stdout",
     "output_type": "stream",
     "text": [
      "Mean Squared Error: 2437053699.8864026\n"
     ]
    }
   ],
   "source": [
    "# Evaluate the model\n",
    "mse = mean_squared_error(y_test, predictions)\n",
    "print(f'Mean Squared Error: {mse}')"
   ]
  },
  {
   "cell_type": "code",
   "execution_count": 18,
   "id": "41e2ee1e",
   "metadata": {},
   "outputs": [
    {
     "name": "stdout",
     "output_type": "stream",
     "text": [
      "Enter the square footage of the new house: 2126\n",
      "Enter the number of bedrooms: 4\n",
      "Enter the number of bathrooms: 1\n",
      "Enter the neighborhood: Rural\n",
      "Enter the year built: 1969\n"
     ]
    }
   ],
   "source": [
    "# Now,use the trained model to make predictions on new data\n",
    "# Example: predict the price for a new house\n",
    "square_feet = float(input(\"Enter the square footage of the new house: \"))\n",
    "bedrooms = int(input(\"Enter the number of bedrooms: \"))\n",
    "bathrooms = int(input(\"Enter the number of bathrooms: \"))\n",
    "neighborhood = input(\"Enter the neighborhood: \")\n",
    "year_built = int(input(\"Enter the year built: \"))"
   ]
  },
  {
   "cell_type": "code",
   "execution_count": 19,
   "id": "fbddd826",
   "metadata": {},
   "outputs": [],
   "source": [
    "# Check if the label is present in the encoder's classes\n",
    "if neighborhood in le.classes_:\n",
    "    # Transform the 'Neighborhood' label to numerical\n",
    "    neighborhood_numerical = le.transform([neighborhood])[0]\n",
    "else:\n",
    "    # Handle the case where the label is unseen\n",
    "    neighborhood_numerical = -1  # Assign a default numerical value"
   ]
  },
  {
   "cell_type": "code",
   "execution_count": 23,
   "id": "dcfb9e14",
   "metadata": {},
   "outputs": [
    {
     "name": "stdout",
     "output_type": "stream",
     "text": [
      "Predicted Price for the new house: 235752.53\n"
     ]
    }
   ],
   "source": [
    "# Make predictions\n",
    "new_house = pd.DataFrame([[square_feet, bedrooms, bathrooms, neighborhood_numerical, year_built]],\n",
    "                         columns=['SquareFeet', 'Bedrooms', 'Bathrooms', 'Neighborhood', 'YearBuilt'])\n",
    "\n",
    "predicted_price = model.predict(new_house[['SquareFeet', 'Bedrooms', 'Bathrooms', 'Neighborhood', 'YearBuilt']])\n",
    "formatted_price = round(predicted_price[0], 2)\n",
    "print(f'Predicted Price for the new house: {formatted_price}')\n",
    "# print(f'Predicted Price for the new house: {predicted_price}')"
   ]
  },
  {
   "cell_type": "code",
   "execution_count": null,
   "id": "2bdc0bb4",
   "metadata": {},
   "outputs": [],
   "source": []
  }
 ],
 "metadata": {
  "kernelspec": {
   "display_name": "Python 3",
   "language": "python",
   "name": "python3"
  },
  "language_info": {
   "codemirror_mode": {
    "name": "ipython",
    "version": 3
   },
   "file_extension": ".py",
   "mimetype": "text/x-python",
   "name": "python",
   "nbconvert_exporter": "python",
   "pygments_lexer": "ipython3",
   "version": "3.9.13"
  }
 },
 "nbformat": 4,
 "nbformat_minor": 5
}
